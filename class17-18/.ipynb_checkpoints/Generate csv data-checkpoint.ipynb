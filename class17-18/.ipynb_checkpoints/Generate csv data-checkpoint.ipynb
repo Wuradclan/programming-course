{
 "cells": [
  {
   "cell_type": "code",
   "execution_count": 51,
   "metadata": {},
   "outputs": [
    {
     "data": {
      "text/plain": [
       "[165.12475670502923, 89.77639041883943]"
      ]
     },
     "execution_count": 51,
     "metadata": {},
     "output_type": "execute_result"
    },
    {
     "data": {
      "image/png": "[encoded data removed]",
      "text/plain": [
       "<Figure size 432x288 with 1 Axes>"
      ]
     },
     "metadata": {
      "needs_background": "light"
     },
     "output_type": "display_data"
    }
   ],
   "source": [
    "%matplotlib inline\n",
    "import matplotlib.pyplot as plt\n",
    "import numpy as np\n",
    "\n",
    "n_guesses = 16\n",
    "\n",
    "guesses_before = np.random.gamma(5, 100, n_guesses)\n",
    "guesses_after = guesses_before.copy()\n",
    "for i in range(n_guesses):\n",
    "    guesses_after[i] = .5 * (guesses_before[i] + guesses_before[np.random.randint(0, 16, 3)].mean())\n",
    "    \n",
    "plt.plot(guesses_before, guesses_after, '.')\n",
    "plt.axis('equal')\n",
    "plt.xlabel('First guess')\n",
    "plt.ylabel('Second guess')\n",
    "\n",
    "[guesses_before.mean(), guesses_after.mean()]\n",
    "[guesses_before.std(), guesses_after.std()]"
   ]
  },
  {
   "cell_type": "code",
   "execution_count": 53,
   "metadata": {},
   "outputs": [],
   "source": [
    "csv = \"first_guess,second_guess\\n\"\n",
    "for i in range(n_guesses):\n",
    "    csv += \"%d,%d\\n\" % (guesses_before[i], guesses_after[i])\n",
    "with open('guesses.csv', 'w') as f:\n",
    "    f.write(csv)"
   ]
  }
 ],
 "metadata": {
  "kernelspec": {
   "display_name": "Python 3",
   "language": "python",
   "name": "python3"
  },
  "language_info": {
   "codemirror_mode": {
    "name": "ipython",
    "version": 3
   },
   "file_extension": ".py",
   "mimetype": "text/x-python",
   "name": "python",
   "nbconvert_exporter": "python",
   "pygments_lexer": "ipython3",
   "version": "3.7.4"
  }
 },
 "nbformat": 4,
 "nbformat_minor": 2
}
